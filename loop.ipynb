{
 "cells": [
  {
   "cell_type": "code",
   "execution_count": 8,
   "metadata": {
    "collapsed": false
   },
   "outputs": [
    {
     "name": "stdout",
     "output_type": "stream",
     "text": [
      "[ 0.96402758  0.99505475]\n",
      "[[ 0.96402758  0.99505475]\n",
      " [ 0.96402758  0.99505475]]\n",
      "0.964027580076 0.995054753687\n"
     ]
    }
   ],
   "source": [
    "import theano\n",
    "import theano.tensor as T\n",
    "import numpy as np\n",
    "\n",
    "X = T.matrix(\"X\")\n",
    "W = T.matrix(\"W\")\n",
    "b_sym = T.vector(\"b_sym\")\n",
    "\n",
    "results, updates = theano.scan(lambda v: T.tanh(T.dot(v, W) + b_sym), sequences=X)\n",
    "compute_elementwise = theano.function(inputs=[X, W, b_sym], outputs=results)\n",
    "\n",
    "x = np.eye(2, dtype=theano.config.floatX) # I (2x2)\n",
    "w = np.ones((2,2), dtype=theano.config.floatX) # [[1,1],[1,1]]\n",
    "b = np.ones((2), dtype=theano.config.floatX)\n",
    "b[1] = 2 # [1,2]\n",
    "print compute_elementwise(x,w,b)[0]\n",
    "\n",
    "print np.tanh(x.dot(w)+b)\n",
    "print np.tanh(2), np.tanh(3)"
   ]
  },
  {
   "cell_type": "code",
   "execution_count": 11,
   "metadata": {
    "collapsed": false
   },
   "outputs": [
    {
     "name": "stdout",
     "output_type": "stream",
     "text": [
      "[[-0.9993293  -0.9993293 ]\n",
      " [ 0.96402758  0.96402758]\n",
      " [ 0.96402758  0.96402758]\n",
      " [ 0.96402758  0.96402758]\n",
      " [ 0.99998771  0.99998771]]\n",
      "[[-0.9993293  -0.9993293 ]\n",
      " [ 0.96402758  0.96402758]\n",
      " [ 0.96402758  0.96402758]\n",
      " [ 0.96402758  0.96402758]\n",
      " [ 0.99998771  0.99998771]]\n"
     ]
    }
   ],
   "source": [
    "X = T.vector(\"X\")\n",
    "W = T.matrix(\"W\")\n",
    "b_sym = T.vector(\"b_sym\")\n",
    "\n",
    "U = T.matrices(\"U\")\n",
    "Y = T.matrices(\"Y\")\n",
    "V = T.matrices(\"V\")\n",
    "P = T.matrices(\"P\")\n",
    "\n",
    "results, updates = theano.scan(lambda y, p, x_tm1: T.tanh(T.dot(x_tm1, W) + T.dot(y, U) + T.dot(p, V)),\n",
    "                              sequences=[Y, P[::-1]], outputs_info=[X])\n",
    "compute_seq = theano.function(inputs=[X, W, Y, U, P, V], outputs=[results])\n",
    "\n",
    "x = np.zeros((2), dtype=theano.config.floatX)\n",
    "x[1] = 1\n",
    "w = np.zeros((2,2), dtype=theano.config.floatX)\n",
    "y= np.zeros((5,2), dtype=theano.config.floatX)\n",
    "y[0,:] = -3\n",
    "u = np.ones((2,2), dtype=theano.config.floatX)\n",
    "p = np.ones((5,2), dtype=theano.config.floatX)\n",
    "p[0,:] = 3\n",
    "v = np.ones((2,2), dtype=theano.config.floatX)\n",
    "\n",
    "print compute_seq(x, w, y, u, p, v)[0]\n",
    "\n",
    "# comparison with numpy\n",
    "x_res = np.zeros((5, 2), dtype=theano.config.floatX)\n",
    "x_res[0] = np.tanh(x.dot(w) + y[0].dot(u) + p[4].dot(v))\n",
    "for i in range(1, 5):\n",
    "  x_res[i] = np.tanh(x_res[i - 1].dot(w) + y[i].dot(u) + p[4-i].dot(v))\n",
    "print x_res"
   ]
  },
  {
   "cell_type": "code",
   "execution_count": 30,
   "metadata": {
    "collapsed": false
   },
   "outputs": [
    {
     "name": "stdout",
     "output_type": "stream",
     "text": [
      "[array([[  2.00000000e+00],\n",
      "       [  6.00000000e+00],\n",
      "       [  2.40000000e+01],\n",
      "       [  1.20000000e+02],\n",
      "       [  7.20000000e+02],\n",
      "       [  5.04000000e+03],\n",
      "       [  4.03200000e+04],\n",
      "       [  3.62880000e+05],\n",
      "       [  3.62880000e+06],\n",
      "       [  3.99168000e+07]])]\n",
      "2\n",
      "6\n",
      "24\n",
      "120\n",
      "720\n",
      "5040\n",
      "40320\n",
      "362880\n",
      "3628800\n",
      "39916800\n"
     ]
    }
   ],
   "source": [
    "# factorial\n",
    "import math\n",
    "X = T.vector(\"x\")\n",
    "time = T.vector(\"t\")\n",
    "\n",
    "results, updates = theano.scan(lambda t, x: (t+1) * x, sequences=[time], outputs_info=[X])\n",
    "my_loop = theano.function(inputs=[X,time], outputs=[results])\n",
    "\n",
    "t = np.array([1,2,3,4,5,6,7,8,9,10], dtype=theano.config.floatX)\n",
    "print my_loop(np.ones(1, dtype=theano.config.floatX), t)\n",
    "for i in range(2, 12):\n",
    "    print math.factorial(i)"
   ]
  },
  {
   "cell_type": "code",
   "execution_count": 31,
   "metadata": {
    "collapsed": false
   },
   "outputs": [
    {
     "name": "stdout",
     "output_type": "stream",
     "text": [
      "[ 1.  2.  3.  4.  5.  0.]\n",
      "[ 1.  2.  3.  4.  5.  0.]\n"
     ]
    }
   ],
   "source": [
    "X = T.matrix(\"X\")\n",
    "results, updates = theano.scan(lambda x_i: T.sqrt((x_i **  2).sum()), sequences=[X])\n",
    "compute_norm_lines = theano.function(inputs=[X], outputs=[results])\n",
    "\n",
    "x = np.diag(np.arange(1, 6, dtype=theano.config.floatX), 1)\n",
    "print compute_norm_lines(x)[0]\n",
    "\n",
    "print np.sqrt((x ** 2).sum(1))"
   ]
  },
  {
   "cell_type": "code",
   "execution_count": 32,
   "metadata": {
    "collapsed": false
   },
   "outputs": [
    {
     "name": "stdout",
     "output_type": "stream",
     "text": [
      "[ 0.  1.  2.  3.  4.  5.]\n",
      "[ 0.  1.  2.  3.  4.  5.]\n"
     ]
    }
   ],
   "source": [
    "results, updates = theano.scan(lambda x_i: T.sqrt((x_i **  2).sum()), sequences=[X.T])\n",
    "compute_norm_cols = theano.function(inputs=[X], outputs=[results])\n",
    "\n",
    "x = np.diag(np.arange(1, 6, dtype=theano.config.floatX), 1)\n",
    "print compute_norm_cols(x)[0]\n",
    "\n",
    "print np.sqrt((x ** 2).sum(0))"
   ]
  },
  {
   "cell_type": "code",
   "execution_count": 37,
   "metadata": {
    "collapsed": false
   },
   "outputs": [
    {
     "name": "stdout",
     "output_type": "stream",
     "text": [
      "[[ 0.  1.  2.  3.  4.]\n",
      " [ 0.  1.  0.  0.  0.]\n",
      " [ 0.  0.  1.  0.  0.]\n",
      " [ 0.  0.  0.  1.  0.]\n",
      " [ 0.  0.  0.  0.  1.]]\n",
      "4.0\n",
      "4.0\n"
     ]
    }
   ],
   "source": [
    "X = T.matrix(\"X\")\n",
    "floatX = \"float32\"\n",
    "results, updates = theano.scan(lambda i,j,t_f: T.cast(X[i,j] + t_f, floatX),\n",
    "                              sequences=[T.arange(X.shape[0]), T.arange(X.shape[1])],\n",
    "                              outputs_info=np.asarray(0., dtype=floatX))\n",
    "result = results[-1]\n",
    "compute_trace = theano.function(inputs=[X], outputs=[result])\n",
    "\n",
    "x = np.eye(5, dtype=theano.config.floatX)\n",
    "x[0] = np.arange(5., dtype=theano.config.floatX)\n",
    "print x\n",
    "print compute_trace(x)[0]\n",
    "\n",
    "print np.diagonal(x).sum()"
   ]
  },
  {
   "cell_type": "code",
   "execution_count": 40,
   "metadata": {
    "collapsed": false
   },
   "outputs": [
    {
     "name": "stdout",
     "output_type": "stream",
     "text": [
      "[array([[   2.],\n",
      "       [   3.],\n",
      "       [   5.],\n",
      "       [   8.],\n",
      "       [  13.],\n",
      "       [  21.],\n",
      "       [  34.],\n",
      "       [  55.],\n",
      "       [  89.],\n",
      "       [ 144.]])]\n"
     ]
    }
   ],
   "source": [
    "# use x(t-2)\n",
    "X = T.matrix(\"X\")\n",
    "n_sym = T.iscalar(\"n_sym\")\n",
    "results, updates = theano.scan(lambda x_tm2, x_tm1: x_tm2 + x_tm1,\n",
    "                                n_steps=n_sym, outputs_info=[dict(initial=X, taps=[-2,-1])])\n",
    "compute_seq2 = theano.function(inputs=[X,n_sym], outputs=[results])\n",
    "x = np.ones((2,1), dtype=theano.config.floatX)\n",
    "n = 10\n",
    "\n",
    "print compute_seq2(x,n)"
   ]
  },
  {
   "cell_type": "code",
   "execution_count": 46,
   "metadata": {
    "collapsed": false
   },
   "outputs": [
    {
     "name": "stdout",
     "output_type": "stream",
     "text": [
      "[[ 0.07065082  0.          0.07065082  0.          0.        ]\n",
      " [ 0.          0.07065082  0.07065082  0.          0.        ]\n",
      " [ 0.          0.          0.41997434  0.          0.        ]]\n",
      "[ 1.  1.  1.  1.  1.]\n",
      "[[ 1.  0.  0.]\n",
      " [ 0.  1.  0.]\n",
      " [ 1.  1.  1.]\n",
      " [ 0.  0.  0.]\n",
      " [ 0.  0.  0.]]\n",
      "[[ 0.07065082  0.          0.07065082  0.          0.        ]\n",
      " [ 0.          0.07065082  0.07065082  0.          0.        ]\n",
      " [ 0.          0.          0.41997434  0.          0.        ]]\n"
     ]
    }
   ],
   "source": [
    "v = T.vector()\n",
    "A = T.matrix()\n",
    "y = T.tanh(T.dot(v, A))\n",
    "results, updates = theano.scan(lambda i: T.grad(y[i], v), sequences=[T.arange(y.shape[0])])\n",
    "compute_jac_t = theano.function([A, v], [results], allow_input_downcast=True) # shape (d_out, d_in)\n",
    "\n",
    "# test values\n",
    "x = np.ones((1,5), dtype=theano.config.floatX)[0]\n",
    "w = np.eye(5, 3, dtype=theano.config.floatX)\n",
    "w[2] = np.ones((3), dtype=theano.config.floatX)\n",
    "print compute_jac_t(w, x)[0]\n",
    "\n",
    "# compare with numpy\n",
    "print x\n",
    "print w\n",
    "print ((1 - np.tanh(x.dot(w)) ** 2) * w).T"
   ]
  },
  {
   "cell_type": "code",
   "execution_count": 50,
   "metadata": {
    "collapsed": false
   },
   "outputs": [
    {
     "name": "stdout",
     "output_type": "stream",
     "text": [
      "0\n",
      "5\n"
     ]
    }
   ],
   "source": [
    "k = theano.shared(0)\n",
    "n_sym = T.iscalar(\"n_sym\")\n",
    "\n",
    "results, updates = theano.scan(lambda :{k:(k + 1)}, n_steps=n_sym)\n",
    "accumulator = theano.function([n_sym], [], updates=updates, allow_input_downcast=True)\n",
    "\n",
    "print k.get_value()\n",
    "accumulator(5)\n",
    "print k.get_value()"
   ]
  },
  {
   "cell_type": "code",
   "execution_count": 57,
   "metadata": {
    "collapsed": false
   },
   "outputs": [
    {
     "name": "stdout",
     "output_type": "stream",
     "text": [
      "0.0\n",
      "[0 1 2 3 4]\n",
      "10.0\n"
     ]
    }
   ],
   "source": [
    "k = theano.shared(0.)\n",
    "n_sym = T.vector(\"n_sym\")\n",
    "\n",
    "results, updates = theano.scan(lambda i:{k:(k + i)}, sequences=n_sym)\n",
    "accumulator = theano.function([n_sym], [], updates=updates, allow_input_downcast=True)\n",
    "\n",
    "print k.get_value()\n",
    "print np.arange(5)\n",
    "accumulator(np.arange(5))\n",
    "print k.get_value()"
   ]
  },
  {
   "cell_type": "code",
   "execution_count": 58,
   "metadata": {
    "collapsed": false
   },
   "outputs": [
    {
     "name": "stdout",
     "output_type": "stream",
     "text": [
      "[array([[ 0.96402758,  0.        ],\n",
      "       [ 0.        ,  0.96402758],\n",
      "       [ 0.        ,  0.        ],\n",
      "       [ 0.76159416,  0.76159416],\n",
      "       [ 0.76159416,  0.        ],\n",
      "       [ 0.        ,  0.76159416],\n",
      "       [ 0.        ,  0.76159416],\n",
      "       [ 0.        ,  0.76159416],\n",
      "       [ 0.        ,  0.        ],\n",
      "       [ 0.76159416,  0.76159416]])]\n"
     ]
    }
   ],
   "source": [
    "# define tensor variables\n",
    "X = T.matrix(\"X\")\n",
    "W = T.matrix(\"W\")\n",
    "b_sym = T.vector(\"b_sym\")\n",
    "\n",
    "# define shared random stream\n",
    "trng = T.shared_randomstreams.RandomStreams(1234)\n",
    "d=trng.binomial(size=W[1].shape)\n",
    "\n",
    "results, updates = theano.scan(lambda v: T.tanh(T.dot(v, W) + b_sym) * d, sequences=X)\n",
    "compute_with_bnoise = theano.function(inputs=[X, W, b_sym], outputs=[results],\n",
    "                          updates=updates, allow_input_downcast=True)\n",
    "x = np.eye(10, 2, dtype=theano.config.floatX)\n",
    "w = np.ones((2, 2), dtype=theano.config.floatX)\n",
    "b = np.ones((2), dtype=theano.config.floatX)\n",
    "\n",
    "print compute_with_bnoise(x, w, b)"
   ]
  },
  {
   "cell_type": "code",
   "execution_count": 59,
   "metadata": {
    "collapsed": false
   },
   "outputs": [
    {
     "name": "stdout",
     "output_type": "stream",
     "text": [
      "[  0.   1.   4.   9.  16.  25.  36.  49.  64.  81.]\n"
     ]
    }
   ],
   "source": [
    "theano.config.warn.subtensor_merge_bug = False\n",
    "\n",
    "k = T.iscalar(\"k\")\n",
    "A = T.vector(\"A\")\n",
    "\n",
    "def inner_fct(prior_result, B):\n",
    "    return prior_result * B\n",
    "\n",
    "# Symbolic description of the result\n",
    "result, updates = theano.scan(fn=inner_fct,\n",
    "                            outputs_info=T.ones_like(A),\n",
    "                            non_sequences=A, n_steps=k)\n",
    "\n",
    "# Scan has provided us with A ** 1 through A ** k.  Keep only the last\n",
    "# value. Scan notices this and does not waste memory saving them.\n",
    "final_result = result[-1]\n",
    "\n",
    "power = theano.function(inputs=[A, k], outputs=final_result,\n",
    "                      updates=updates)\n",
    "\n",
    "print power(range(10), 2)\n",
    "#[  0.   1.   4.   9.  16.  25.  36.  49.  64.  81.]"
   ]
  },
  {
   "cell_type": "code",
   "execution_count": 86,
   "metadata": {
    "collapsed": false
   },
   "outputs": [
    {
     "name": "stdout",
     "output_type": "stream",
     "text": [
      "19.0\n"
     ]
    }
   ],
   "source": [
    "coefficients = theano.tensor.vector(\"coefficients\")\n",
    "x = T.scalar(\"x\")\n",
    "#rslt = T.scalar(\"r\")\n",
    "rslt = T.scalar(\"r\")\n",
    "#rslt = T.as_tensor_variable(np.asarray(0, 'float64'))\n",
    "max_coefficients_supported = 10000\n",
    "\n",
    "# Generate the components of the polynomial\n",
    "full_range=theano.tensor.arange(max_coefficients_supported)\n",
    "components, updates = theano.scan(fn=lambda coeff, power, acc, free_var:\n",
    "                                acc + ( coeff * (free_var ** power)),\n",
    "                                outputs_info=[rslt],\n",
    "                                sequences=[coefficients, full_range],\n",
    "                                non_sequences=x)\n",
    "\n",
    "calculate_polynomial = theano.function(inputs=[coefficients, x, rslt],\n",
    "                                     outputs=components[-1])\n",
    "\n",
    "test_coeff = np.asarray([1, 0, 2], dtype=np.float32)\n",
    "print calculate_polynomial(test_coeff, 3, 0.)\n",
    "# 19.0"
   ]
  },
  {
   "cell_type": "code",
   "execution_count": null,
   "metadata": {
    "collapsed": true
   },
   "outputs": [],
   "source": []
  }
 ],
 "metadata": {
  "kernelspec": {
   "display_name": "Python 2",
   "language": "python",
   "name": "python2"
  },
  "language_info": {
   "codemirror_mode": {
    "name": "ipython",
    "version": 2
   },
   "file_extension": ".py",
   "mimetype": "text/x-python",
   "name": "python",
   "nbconvert_exporter": "python",
   "pygments_lexer": "ipython2",
   "version": "2.7.1"
  }
 },
 "nbformat": 4,
 "nbformat_minor": 0
}
