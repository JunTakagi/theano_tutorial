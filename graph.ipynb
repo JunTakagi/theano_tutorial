{
 "cells": [
  {
   "cell_type": "code",
   "execution_count": 3,
   "metadata": {
    "collapsed": false
   },
   "outputs": [
    {
     "name": "stdout",
     "output_type": "stream",
     "text": [
      "The output file is available at ./img/unopt.png\n",
      "The output file is available at ./img/opt.png\n"
     ]
    }
   ],
   "source": [
    "import theano\n",
    "a = theano.tensor.vector(\"a\")\n",
    "b = a + a ** 10\n",
    "f = theano.function([a], b)\n",
    "theano.printing.pydotprint(b, outfile=\"./img/unopt.png\")\n",
    "theano.printing.pydotprint(f, outfile=\"./img/opt.png\")"
   ]
  },
  {
   "cell_type": "code",
   "execution_count": 6,
   "metadata": {
    "collapsed": false
   },
   "outputs": [
    {
     "data": {
      "text/plain": [
       "'(a + (a ** TensorConstant{10}))'"
      ]
     },
     "execution_count": 6,
     "metadata": {},
     "output_type": "execute_result"
    }
   ],
   "source": [
    "theano.printing.pprint(b)"
   ]
  },
  {
   "cell_type": "code",
   "execution_count": 7,
   "metadata": {
    "collapsed": false
   },
   "outputs": [
    {
     "name": "stdout",
     "output_type": "stream",
     "text": [
      "Elemwise{add,no_inplace} [@A] ''   \n",
      " |a [@B]\n",
      " |Elemwise{pow,no_inplace} [@C] ''   \n",
      "   |a [@B]\n",
      "   |DimShuffle{x} [@D] ''   \n",
      "     |TensorConstant{10} [@E]\n"
     ]
    }
   ],
   "source": [
    "theano.printing.debugprint(b)"
   ]
  },
  {
   "cell_type": "code",
   "execution_count": 8,
   "metadata": {
    "collapsed": false
   },
   "outputs": [
    {
     "name": "stdout",
     "output_type": "stream",
     "text": [
      "Elemwise{Composite{(i0 + Composite{(sqr(sqr(sqr(i0))) * sqr(i0))}(i0))}} [@A] ''   0\n",
      " |a [@B]\n"
     ]
    }
   ],
   "source": [
    "theano.printing.debugprint(f)"
   ]
  },
  {
   "cell_type": "code",
   "execution_count": null,
   "metadata": {
    "collapsed": true
   },
   "outputs": [],
   "source": []
  }
 ],
 "metadata": {
  "kernelspec": {
   "display_name": "Python 2",
   "language": "python",
   "name": "python2"
  },
  "language_info": {
   "codemirror_mode": {
    "name": "ipython",
    "version": 2
   },
   "file_extension": ".py",
   "mimetype": "text/x-python",
   "name": "python",
   "nbconvert_exporter": "python",
   "pygments_lexer": "ipython2",
   "version": "2.7.1"
  }
 },
 "nbformat": 4,
 "nbformat_minor": 0
}
