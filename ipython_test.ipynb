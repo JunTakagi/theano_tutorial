{
 "cells": [
  {
   "cell_type": "code",
   "execution_count": 3,
   "metadata": {
    "collapsed": false,
    "scrolled": true
   },
   "outputs": [
    {
     "name": "stdout",
     "output_type": "stream",
     "text": [
      "[ 0  1  2 ..., 97 98 99]\n"
     ]
    }
   ],
   "source": [
    "from numpy import *\n",
    "a = arange(100)\n",
    "set_printoptions(threshold=10)\n",
    "print a"
   ]
  },
  {
   "cell_type": "code",
   "execution_count": 9,
   "metadata": {
    "collapsed": false
   },
   "outputs": [
    {
     "name": "stdout",
     "output_type": "stream",
     "text": [
      "[20 30 40 50]\n",
      "[0 1 2 3]\n",
      "[20 29 38 47]\n"
     ]
    }
   ],
   "source": [
    "# element wise operations \n",
    "a = array([20, 30, 40, 50])\n",
    "b = arange(4)\n",
    "c = a - b\n",
    "print a\n",
    "print b\n",
    "print c"
   ]
  },
  {
   "cell_type": "code",
   "execution_count": 6,
   "metadata": {
    "collapsed": false
   },
   "outputs": [
    {
     "name": "stdout",
     "output_type": "stream",
     "text": [
      "[0 1 4 9]\n"
     ]
    }
   ],
   "source": [
    "print b**2"
   ]
  },
  {
   "cell_type": "code",
   "execution_count": 7,
   "metadata": {
    "collapsed": false
   },
   "outputs": [
    {
     "data": {
      "text/plain": [
       "array([ 9.12945251, -9.88031624,  7.4511316 , -2.62374854])"
      ]
     },
     "execution_count": 7,
     "metadata": {},
     "output_type": "execute_result"
    }
   ],
   "source": [
    "10 * sin(a)"
   ]
  },
  {
   "cell_type": "code",
   "execution_count": 8,
   "metadata": {
    "collapsed": false
   },
   "outputs": [
    {
     "data": {
      "text/plain": [
       "array([ True,  True, False, False], dtype=bool)"
      ]
     },
     "execution_count": 8,
     "metadata": {},
     "output_type": "execute_result"
    }
   ],
   "source": [
    "a < 35"
   ]
  },
  {
   "cell_type": "code",
   "execution_count": 10,
   "metadata": {
    "collapsed": false
   },
   "outputs": [
    {
     "name": "stdout",
     "output_type": "stream",
     "text": [
      "[2 3]\n",
      "5\n"
     ]
    }
   ],
   "source": [
    "# matrix operation\n",
    "A = array([1,1])\n",
    "B = array([2,3])\n",
    "print A * B\n",
    "print dot(A, B)"
   ]
  },
  {
   "cell_type": "code",
   "execution_count": 12,
   "metadata": {
    "collapsed": false
   },
   "outputs": [
    {
     "name": "stdout",
     "output_type": "stream",
     "text": [
      "[[ 1.  2.]\n",
      " [ 3.  4.]]\n",
      "[[ 3.  3.]\n",
      " [ 7.  7.]]\n"
     ]
    }
   ],
   "source": [
    "A = array([[1,2],[3,4]])\n",
    "B = ones(4).reshape((2,2))\n",
    "print A * B\n",
    "print dot(A, B)"
   ]
  },
  {
   "cell_type": "code",
   "execution_count": 13,
   "metadata": {
    "collapsed": false
   },
   "outputs": [
    {
     "name": "stdout",
     "output_type": "stream",
     "text": [
      "[[2 3]\n",
      " [4 5]]\n",
      "[[ 2.  3.]\n",
      " [ 4.  5.]]\n"
     ]
    }
   ],
   "source": [
    "#calcurate and institute\n",
    "A += B\n",
    "print A\n",
    "B *= A\n",
    "print B"
   ]
  },
  {
   "cell_type": "code",
   "execution_count": 16,
   "metadata": {
    "collapsed": false
   },
   "outputs": [
    {
     "name": "stdout",
     "output_type": "stream",
     "text": [
      "[[5 6]\n",
      " [7 8]]\n"
     ]
    }
   ],
   "source": [
    "A = array([[2,3],[4,5]])\n",
    "B = ones(4).reshape((2,2)) * 3.33333\n",
    "A += B # B is converted to integer type because institute to int-type array A\n",
    "print A"
   ]
  },
  {
   "cell_type": "code",
   "execution_count": 18,
   "metadata": {
    "collapsed": false
   },
   "outputs": [
    {
     "name": "stdout",
     "output_type": "stream",
     "text": [
      "int64\n"
     ]
    }
   ],
   "source": [
    "# result type will be more precise one\n",
    "a = ones(3, dtype=int32)\n",
    "b = ones(3, dtype=int64)\n",
    "c = a - b\n",
    "print c.dtype.name"
   ]
  },
  {
   "cell_type": "code",
   "execution_count": 19,
   "metadata": {
    "collapsed": false
   },
   "outputs": [
    {
     "name": "stdout",
     "output_type": "stream",
     "text": [
      "[[ 0.26434859  0.10870968  0.90047424]\n",
      " [ 0.48358017  0.09227217  0.4197822 ]]\n",
      "2.26916704966\n",
      "0.0922721678921\n",
      "0.900474238961\n"
     ]
    }
   ],
   "source": [
    "# unary operations (単功)\n",
    "a = random.random([2,3])\n",
    "print a\n",
    "print a.sum()\n",
    "print a.min()\n",
    "print a.max()"
   ]
  },
  {
   "cell_type": "code",
   "execution_count": 20,
   "metadata": {
    "collapsed": false
   },
   "outputs": [
    {
     "name": "stdout",
     "output_type": "stream",
     "text": [
      "[ 0.74792876  0.20098185  1.32025644]\n",
      "[ 1.27353251  0.99563454]\n"
     ]
    }
   ],
   "source": [
    "# specifing axis\n",
    "print a.sum(axis=0) # axis=0 : 2 of (2,3)\n",
    "print a.sum(axis=1) # axis=1 : 3 of (2,3)"
   ]
  },
  {
   "cell_type": "code",
   "execution_count": 21,
   "metadata": {
    "collapsed": false
   },
   "outputs": [
    {
     "name": "stdout",
     "output_type": "stream",
     "text": [
      "[  1.   2.   3. ...,  10.  11.  12.]\n",
      "[[ 1.  1.  1.  1.]\n",
      " [ 2.  2.  2.  2.]\n",
      " [ 3.  3.  3.  3.]]\n",
      "[[ 1.  2.  3.  4.]\n",
      " [ 1.  2.  3.  4.]\n",
      " [ 1.  2.  3.  4.]]\n"
     ]
    }
   ],
   "source": [
    "# cumulative sum\n",
    "a = ones((3,4))\n",
    "print a.cumsum()\n",
    "print a.cumsum(axis=0)\n",
    "print a.cumsum(axis=1)"
   ]
  },
  {
   "cell_type": "code",
   "execution_count": 22,
   "metadata": {
    "collapsed": false
   },
   "outputs": [
    {
     "name": "stdout",
     "output_type": "stream",
     "text": [
      "[ 1.          2.71828183  7.3890561 ]\n",
      "[ 0.          1.          1.41421356]\n",
      "[ 2.  0.  6.]\n"
     ]
    }
   ],
   "source": [
    "# Universal function (sin, cos, exp, etc...)\n",
    "B = arange(3)\n",
    "print exp(B)\n",
    "print sqrt(B)\n",
    "C = array([2., -1., 4.])\n",
    "print add(B, C)"
   ]
  },
  {
   "cell_type": "code",
   "execution_count": 23,
   "metadata": {
    "collapsed": false
   },
   "outputs": [
    {
     "name": "stdout",
     "output_type": "stream",
     "text": [
      "8\n",
      "[8]\n",
      "[ -1   1  -1  27  -1 125 216 343 512 729]\n",
      "[729 512 343 216 125  -1  27  -1   1  -1]\n"
     ]
    }
   ],
   "source": [
    "# index, slice, iterating\n",
    "# one-dimensional\n",
    "a = arange(10)**3\n",
    "print a[2]\n",
    "print a[2:3]\n",
    "a[:6:2] = -1 # equals a[0:6:2:] = -1 0から6まで2個間隔\n",
    "print a\n",
    "print a[::-1] # equals a[0:10:-1], reversed a"
   ]
  },
  {
   "cell_type": "code",
   "execution_count": 28,
   "metadata": {
    "collapsed": false,
    "scrolled": true
   },
   "outputs": [
    {
     "name": "stdout",
     "output_type": "stream",
     "text": [
      "[  0   1   8  27  64 125 216 343 512 729]\n",
      "[  0   1   8  27  64 125 216 343 512 729]\n",
      "[  0   2   2   2   2   2 216 343 512 729]\n",
      "[  3   3   3   3   3   2 216 343 512 729]\n"
     ]
    }
   ],
   "source": [
    "a = arange(10)**3\n",
    "a[5:0:1] = 3\n",
    "print a\n",
    "a[0:5:-1] = 1\n",
    "print a\n",
    "a[5:0:-1] = 2 #  変な感じになるから使わない方が良さそう\n",
    "print a\n",
    "a[0:5:1] = 3\n",
    "print a"
   ]
  },
  {
   "cell_type": "code",
   "execution_count": 33,
   "metadata": {
    "collapsed": false
   },
   "outputs": [
    {
     "name": "stdout",
     "output_type": "stream",
     "text": [
      "[[ 0  1  2  3]\n",
      " [10 11 12 13]\n",
      " [20 21 22 23]\n",
      " [30 31 32 33]\n",
      " [40 41 42 43]]\n",
      "23\n",
      "[ 1 11 21]\n",
      "[ 1 11 21 31 41]\n",
      "[[10 11 12 13]\n",
      " [20 21 22 23]]\n",
      "[40 41 42 43]\n"
     ]
    }
   ],
   "source": [
    "# Multidimensional\n",
    "# fromfunction - create matrix like M(f(i,j)) : 座標から関数使って数値を作る\n",
    "b = fromfunction(lambda i,j: 10*i+j, (5,4), dtype=int)\n",
    "print b\n",
    "print b[2,3]\n",
    "print b[0:3,1]\n",
    "print b[:, 1]\n",
    "print b[1:3,:]\n",
    "print b[-1] # equal to b[-1,:]"
   ]
  },
  {
   "cell_type": "code",
   "execution_count": 36,
   "metadata": {
    "collapsed": false
   },
   "outputs": [
    {
     "name": "stdout",
     "output_type": "stream",
     "text": [
      "[[[ 0  1  2]\n",
      "  [ 3  4  5]\n",
      "  [ 6  7  8]]\n",
      "\n",
      " [[ 9 10 11]\n",
      "  [12 13 14]\n",
      "  [15 16 17]]\n",
      "\n",
      " [[18 19 20]\n",
      "  [21 22 23]\n",
      "  [24 25 26]]]\n",
      "[[ 9 10 11]\n",
      " [12 13 14]\n",
      " [15 16 17]]\n",
      "[[ 9 10 11]\n",
      " [12 13 14]\n",
      " [15 16 17]]\n",
      "[[ 2  5  8]\n",
      " [11 14 17]\n",
      " [20 23 26]]\n"
     ]
    }
   ],
   "source": [
    "# using dot(...) instead of colom\n",
    "c = arange(27).reshape((3,3,3))\n",
    "print c\n",
    "print c[1,:,:]\n",
    "print c[1,...]\n",
    "print c[...,2]"
   ]
  },
  {
   "cell_type": "code",
   "execution_count": 37,
   "metadata": {
    "collapsed": false
   },
   "outputs": [
    {
     "name": "stdout",
     "output_type": "stream",
     "text": [
      "[0 1 2]\n",
      "[3 4 5]\n",
      "[6 7 8]\n",
      "0 1 2 3 4 5 6 7 8\n"
     ]
    }
   ],
   "source": [
    "# iteration\n",
    "b = arange(9).reshape((3,3))\n",
    "for row in b:\n",
    "    print row\n",
    "for elem in b.flat:\n",
    "    print elem,"
   ]
  },
  {
   "cell_type": "code",
   "execution_count": 41,
   "metadata": {
    "collapsed": false
   },
   "outputs": [
    {
     "name": "stdout",
     "output_type": "stream",
     "text": [
      "(3, 4)\n",
      "[[ 5.  7.  9.  3.]\n",
      " [ 4.  1.  8.  3.]\n",
      " [ 8.  7.  8.  6.]]\n",
      "[ 5.  7.  9. ...,  7.  8.  6.]\n",
      "[[ 5.  4.  8.]\n",
      " [ 7.  1.  7.]\n",
      " [ 9.  8.  8.]\n",
      " [ 3.  3.  6.]]\n"
     ]
    }
   ],
   "source": [
    "#shape manipulation\n",
    "a = floor(10*random.random((3,4)))\n",
    "print a.shape\n",
    "print a\n",
    "print a.ravel() # flatten\n",
    "print a.transpose()"
   ]
  },
  {
   "cell_type": "code",
   "execution_count": 45,
   "metadata": {
    "collapsed": false
   },
   "outputs": [
    {
     "name": "stdout",
     "output_type": "stream",
     "text": [
      "[[ 5.  7.  9.  3.  4.  1.]\n",
      " [ 8.  3.  8.  7.  8.  6.]]\n",
      "[[ 5.  7.  9.  3.]\n",
      " [ 4.  1.  8.  3.]\n",
      " [ 8.  7.  8.  6.]]\n",
      "[[ 5.  7.  9.  3.  4.  1.]\n",
      " [ 8.  3.  8.  7.  8.  6.]]\n"
     ]
    }
   ],
   "source": [
    "print a.reshape(2, -1) # aは変更無し\n",
    "print a\n",
    "a.resize(2, 6) # a自体のサイズが変わる\n",
    "print a"
   ]
  },
  {
   "cell_type": "code",
   "execution_count": 50,
   "metadata": {
    "collapsed": false
   },
   "outputs": [
    {
     "name": "stdout",
     "output_type": "stream",
     "text": [
      "[[ 9.  3.]\n",
      " [ 1.  1.]\n",
      " [ 6.  9.]\n",
      " [ 7.  0.]]\n",
      "[[ 9.  3.  6.  9.]\n",
      " [ 1.  1.  7.  0.]]\n",
      "[[ 9.  3.  6.  9.]\n",
      " [ 1.  1.  7.  0.]]\n"
     ]
    }
   ],
   "source": [
    "# stacking\n",
    "a = floor(10*random.random((2,2)))\n",
    "b = floor(10*random.random((2,2)))\n",
    "print vstack((a,b)) # vertically stack\n",
    "print hstack((a,b)) # horizonally stack\n",
    "print column_stack((a,b)) # equals hstack"
   ]
  },
  {
   "cell_type": "code",
   "execution_count": 56,
   "metadata": {
    "collapsed": false,
    "scrolled": false
   },
   "outputs": [
    {
     "name": "stdout",
     "output_type": "stream",
     "text": [
      "[[4]\n",
      " [2]]\n",
      "[[4 3]\n",
      " [2 8]]\n",
      "[[4 2]\n",
      " [3 8]]\n"
     ]
    }
   ],
   "source": [
    "# newaxis\n",
    "a = array([4,2])\n",
    "b = array([3,8])\n",
    "print a[:,newaxis] # to 2D columns vector\n",
    "print column_stack((a[:,newaxis],b[:,newaxis])) # hstack\n",
    "print row_stack((a,b)) # vstack"
   ]
  },
  {
   "cell_type": "code",
   "execution_count": 60,
   "metadata": {
    "collapsed": false
   },
   "outputs": [
    {
     "name": "stdout",
     "output_type": "stream",
     "text": [
      "[1 2 3 0 4]\n",
      "[4 2 3 8]\n",
      "[[1 4]\n",
      " [2 5]]\n"
     ]
    }
   ],
   "source": [
    "# convenient function\n",
    "print r_[1:4,0,4] # this looks convenient to add the bias term\n",
    "print r_[a,b]\n",
    "print c_[1:3,4:6]"
   ]
  },
  {
   "cell_type": "code",
   "execution_count": 61,
   "metadata": {
    "collapsed": false
   },
   "outputs": [
    {
     "name": "stdout",
     "output_type": "stream",
     "text": [
      "[array([[ 9.,  9.,  6.,  5.],\n",
      "       [ 8.,  8.,  6.,  9.]]), array([[ 8.,  6.,  2.,  5.],\n",
      "       [ 8.,  2.,  5.,  8.]]), array([[ 5.,  5.,  4.,  1.],\n",
      "       [ 0.,  7.,  1.,  9.]])]\n",
      "[array([[ 9.,  9.,  6.],\n",
      "       [ 8.,  8.,  6.]]), array([[ 5.],\n",
      "       [ 9.]]), array([[ 8.,  6.,  2., ...,  5.,  4.,  1.],\n",
      "       [ 8.,  2.,  5., ...,  7.,  1.,  9.]])]\n",
      "[array([[ 9.,  9.],\n",
      "       [ 8.,  8.]]), array([[ 6.,  5.,  8.],\n",
      "       [ 6.,  9.,  8.]]), array([[ 6.,  2.],\n",
      "       [ 2.,  5.]]), array([[ 5.,  5.,  5.],\n",
      "       [ 8.,  0.,  7.]]), array([[ 4.,  1.],\n",
      "       [ 1.,  9.]])]\n"
     ]
    }
   ],
   "source": [
    "# splitting array -> list of maller arrays\n",
    "a = floor(10*random.random((2,12)))\n",
    "print hsplit(a,3)\n",
    "print hsplit(a,(3,4)) # splitするcolumnの位置を渡している\n",
    "print hsplit(a,(2,5,7,10))"
   ]
  },
  {
   "cell_type": "code",
   "execution_count": 62,
   "metadata": {
    "collapsed": false
   },
   "outputs": [
    {
     "name": "stdout",
     "output_type": "stream",
     "text": [
      "True\n",
      "[ 0  1  2 ...,  9 10 11]\n",
      "[[ 0  1  2  3]\n",
      " [ 4  5  6  7]\n",
      " [ 8  9 10 11]]\n"
     ]
    }
   ],
   "source": [
    "# copy and view\n",
    "a = arange(12)\n",
    "b = a\n",
    "print b is a\n",
    "print a\n",
    "b.shape = 3,4 # a is also changed\n",
    "print a"
   ]
  },
  {
   "cell_type": "code",
   "execution_count": 63,
   "metadata": {
    "collapsed": false
   },
   "outputs": [
    {
     "name": "stdout",
     "output_type": "stream",
     "text": [
      "False\n",
      "False\n",
      "(3, 4)\n",
      "[[   0    1    2    3]\n",
      " [1234    5    6    7]\n",
      " [   8    9   10   11]]\n"
     ]
    }
   ],
   "source": [
    "# view : sharrow copy\n",
    "c = a.view()\n",
    "print c is a\n",
    "print c.flags.owndata\n",
    "c.shape = 2,6 # shapeは変わらない\n",
    "print a.shape\n",
    "c[0,4] = 1234 # 値は代入するともとの方も変わる \n",
    "print a"
   ]
  },
  {
   "cell_type": "code",
   "execution_count": 64,
   "metadata": {
    "collapsed": false
   },
   "outputs": [
    {
     "name": "stdout",
     "output_type": "stream",
     "text": [
      "[[   0    1    2    3]\n",
      " [1234    5    6    7]\n",
      " [   8    9   10   11]]\n",
      "[[ 1  2]\n",
      " [ 5  6]\n",
      " [ 9 10]]\n",
      "[[   0   10   10    3]\n",
      " [1234   10   10    7]\n",
      " [   8   10   10   11]]\n"
     ]
    }
   ],
   "source": [
    "# slice is a view\n",
    "s = a[:,1:3]\n",
    "print a\n",
    "print s\n",
    "s[:] = 10\n",
    "print a"
   ]
  },
  {
   "cell_type": "code",
   "execution_count": 65,
   "metadata": {
    "collapsed": false
   },
   "outputs": [
    {
     "name": "stdout",
     "output_type": "stream",
     "text": [
      "False\n",
      "[[   0   10   10    3]\n",
      " [1234   10   10    7]\n",
      " [   8   10   10   11]]\n"
     ]
    }
   ],
   "source": [
    "# deep copy\n",
    "d = a.copy()\n",
    "print d is a\n",
    "d[0,0] = 9999\n",
    "print a"
   ]
  },
  {
   "cell_type": "code",
   "execution_count": 68,
   "metadata": {
    "collapsed": false
   },
   "outputs": [
    {
     "name": "stdout",
     "output_type": "stream",
     "text": [
      "[[ 1.  0.]\n",
      " [ 0.  1.]]\n",
      "[[1 0]\n",
      " [0 1]]\n"
     ]
    }
   ],
   "source": [
    "# array creation method\n",
    "print eye(2,2)\n",
    "print eye(2,2,dtype=int)"
   ]
  },
  {
   "cell_type": "code",
   "execution_count": 69,
   "metadata": {
    "collapsed": false
   },
   "outputs": [
    {
     "name": "stdout",
     "output_type": "stream",
     "text": [
      "[[0 0 0 0]\n",
      " [0 0 0 0]\n",
      " [0 0 0 0]]\n",
      "[[ 5764607523034234880 -1152912731257411477                    6\n",
      "                     0]\n",
      " [                   0                    0                    0\n",
      "                     0]\n",
      " [                   0                    0                    0\n",
      "      1688849860263936]]\n",
      "[[1 1 1 1]\n",
      " [1 1 1 1]\n",
      " [1 1 1 1]]\n"
     ]
    }
   ],
   "source": [
    "# *_like create matrix same shape as input\n",
    "a = arange(12).reshape(3,4)\n",
    "print zeros_like(a)\n",
    "print empty_like(a)\n",
    "print ones_like(a)"
   ]
  },
  {
   "cell_type": "code",
   "execution_count": 71,
   "metadata": {
    "collapsed": false
   },
   "outputs": [
    {
     "name": "stdout",
     "output_type": "stream",
     "text": [
      "[  1.00000000e-02   1.00000000e-01   1.00000000e+00   1.00000000e+01\n",
      "   1.00000000e+02   1.00000000e+03]\n",
      "[  1.00000000e-02   6.81292069e-02   4.64158883e-01   3.16227766e+00\n",
      "   2.15443469e+01   1.46779927e+02   1.00000000e+03]\n"
     ]
    }
   ],
   "source": [
    "# logspace\n",
    "print logspace(-2,3,num=6)\n",
    "print logspace(-2,3,num=7)"
   ]
  },
  {
   "cell_type": "code",
   "execution_count": 80,
   "metadata": {
    "collapsed": false
   },
   "outputs": [
    {
     "name": "stdout",
     "output_type": "stream",
     "text": [
      "(2, 2, 3)\n",
      "[[[1 1 1]\n",
      "  [2 2 2]]\n",
      "\n",
      " [[2 3 4]\n",
      "  [2 3 4]]]\n",
      "[2 4]\n"
     ]
    }
   ],
   "source": [
    "# mgrid\n",
    "m = mgrid[1:3,2:5] # x-value 1,2, y-value 1,2,3 のグリッド\n",
    "print m.shape\n",
    "print m\n",
    "print m[:,1,2] # 最初を : にして、x,yの番号を指定してとりだす"
   ]
  },
  {
   "cell_type": "code",
   "execution_count": 82,
   "metadata": {
    "collapsed": false
   },
   "outputs": [
    {
     "name": "stdout",
     "output_type": "stream",
     "text": [
      "[[0]\n",
      " [1]\n",
      " [2]]\n",
      "[[0 1 2]]\n",
      "[[0 0 0]\n",
      " [0 1 2]\n",
      " [0 2 4]]\n"
     ]
    }
   ],
   "source": [
    "# ogrid\n",
    "x, y = ogrid[0:3,0:3] # broadcasting rules で使用するらしいがよく分からん\n",
    "print x\n",
    "print y\n",
    "print x*y"
   ]
  },
  {
   "cell_type": "code",
   "execution_count": 86,
   "metadata": {
    "collapsed": false
   },
   "outputs": [
    {
     "name": "stdout",
     "output_type": "stream",
     "text": [
      "True\n",
      "False\n",
      "(array([1, 2, 3, 4]),)\n",
      "[ 3  4  5 -4 -5]\n",
      "(array([0, 1, 2]),)\n",
      "[3 4 5]\n"
     ]
    }
   ],
   "source": [
    "# logical\n",
    "a = array((True, False, True))\n",
    "print a.any()\n",
    "print a.all()\n",
    "# flags\n",
    "a = array([0,1,2,3,4])\n",
    "print a.nonzero()\n",
    "b = array([3,4,5,6,7])\n",
    "c = array([-1,-2,-3,-4,-5])\n",
    "print where(a < 3, b, c) # 条件を満たすindex => b, otherwise c\n",
    "indices = where(a<3)\n",
    "print indices\n",
    "print b[indices]"
   ]
  },
  {
   "cell_type": "code",
   "execution_count": 93,
   "metadata": {
    "collapsed": false
   },
   "outputs": [
    {
     "name": "stdout",
     "output_type": "stream",
     "text": [
      "[10 10 40]\n",
      "[10 10 40]\n",
      "[[10 20]\n",
      " [10 20]]\n",
      "[[10 30]\n",
      " [30 50]]\n",
      "[[10 20 30]]\n"
     ]
    }
   ],
   "source": [
    "# take\n",
    "a = array([10,20,30,40])\n",
    "print a.take([0,0,3])\n",
    "print a[[0,0,3]]\n",
    "print a.take([[0,1],[0,1]])\n",
    "# print a[[[0,1],[0,1]]] # これは出来ない\n",
    "a = array([[10,20,30],[30,40,50]])\n",
    "print a.take([0,2], axis=1)\n",
    "print take(a, [0], axis=0)"
   ]
  },
  {
   "cell_type": "code",
   "execution_count": 95,
   "metadata": {
    "collapsed": false
   },
   "outputs": [
    {
     "name": "stdout",
     "output_type": "stream",
     "text": [
      "4\n",
      "5\n",
      "[5 6 7 8 0 1 2 3 4]\n",
      "[[ 0  1  2]\n",
      " [ 3  4 -4]\n",
      " [-3 -2 -1]]\n",
      "4\n",
      "[1 1 0]\n",
      "[2 1 2]\n"
     ]
    }
   ],
   "source": [
    "# arg*\n",
    "a = array([0,1,2,3,4,-4,-3,-2,-1])\n",
    "print a.argmax()\n",
    "print a.argmin()\n",
    "print a.argsort()\n",
    "a.resize((3,3))\n",
    "print a\n",
    "print a.argmax() # flatにしたときのargmaxらしい\n",
    "print a.argmax(axis=0)\n",
    "print a.argmax(axis=1)"
   ]
  },
  {
   "cell_type": "code",
   "execution_count": 100,
   "metadata": {
    "collapsed": false
   },
   "outputs": [
    {
     "name": "stdout",
     "output_type": "stream",
     "text": [
      "[[ 0.83858984  0.91718714  0.96717936]\n",
      " [ 0.69874128  0.40576252  0.97576646]\n",
      " [ 0.8977384   0.10904858  0.22271307]]\n",
      "[[ 0.004202    0.00684849 -0.02385129]\n",
      " [ 0.00684849  0.08124733  0.01814326]\n",
      " [-0.02385129  0.01814326  0.18176841]]\n",
      "mean 0.67030296094\n",
      "mean [ 0.90765211  0.69342342  0.40983335]\n",
      "std 0.317730889675\n",
      "std [ 0.05292764  0.23273351  0.34810765]\n",
      "0.100952918254\n"
     ]
    }
   ],
   "source": [
    "# statistics\n",
    "a = random.random((3,3))\n",
    "print a\n",
    "print cov(a)\n",
    "print 'mean', a.mean()\n",
    "print 'mean', a.mean(axis=1)\n",
    "print 'std', a.std()\n",
    "print 'std', a.std(axis=1)\n",
    "print a.var()"
   ]
  },
  {
   "cell_type": "code",
   "execution_count": 101,
   "metadata": {
    "collapsed": false
   },
   "outputs": [
    {
     "name": "stdout",
     "output_type": "stream",
     "text": [
      "[ 1  1  9 64 25]\n",
      "[[ 9 16]\n",
      " [81 49]]\n"
     ]
    }
   ],
   "source": [
    "# funcy indexing\n",
    "a = arange(12) ** 2\n",
    "i = array([1,1,3,8,5])\n",
    "print a[i]\n",
    "j = array([[3,4],[9,7]])\n",
    "print a[j]"
   ]
  },
  {
   "cell_type": "code",
   "execution_count": 106,
   "metadata": {
    "collapsed": false
   },
   "outputs": [
    {
     "name": "stdout",
     "output_type": "stream",
     "text": [
      "[[[0 0 0]\n",
      "  [0 0 0]\n",
      "  [0 1 0]\n",
      "  [0 1 0]]\n",
      "\n",
      " [[3 3 0]\n",
      "  [0 0 0]\n",
      "  [0 1 0]\n",
      "  [2 0 0]]]\n"
     ]
    }
   ],
   "source": [
    "# more than 2D array : referes 1st dimension\n",
    "a = array([[0,0,0],[0,1,0],[2,0,0],[3,3,0]])\n",
    "ind = array([[0,0,1,1],[3,0,1,2]])\n",
    "print a[ind]"
   ]
  },
  {
   "cell_type": "code",
   "execution_count": 108,
   "metadata": {
    "collapsed": false
   },
   "outputs": [
    {
     "name": "stdout",
     "output_type": "stream",
     "text": [
      "[[ 0  1  2  3]\n",
      " [ 4  5  6  7]\n",
      " [ 8  9 10 11]]\n",
      "[[ 2  5]\n",
      " [ 7 11]]\n"
     ]
    }
   ],
   "source": [
    "# indices for more than one dimension\n",
    "a = arange(12).reshape(3,4)\n",
    "i = array([[0,1],[1,2]])\n",
    "j = array([[2,1],[3,3]])\n",
    "print a\n",
    "print a[i,j]  # (0,2) (1,1) || (1,3) (2,3)"
   ]
  },
  {
   "cell_type": "code",
   "execution_count": 110,
   "metadata": {
    "collapsed": false
   },
   "outputs": [
    {
     "name": "stdout",
     "output_type": "stream",
     "text": [
      "[[ 2  5]\n",
      " [ 7 11]]\n"
     ]
    }
   ],
   "source": [
    "# list-of-array is ok, but arrya-of-array is ng\n",
    "l1 = [i,j]\n",
    "l2 = array([i,j])\n",
    "print a[l1]\n",
    "# print a[l2] # this is err"
   ]
  },
  {
   "cell_type": "code",
   "execution_count": 111,
   "metadata": {
    "collapsed": false
   },
   "outputs": [
    {
     "name": "stdout",
     "output_type": "stream",
     "text": [
      "[2 0 3 1]\n",
      "[  82.5    20.    113.75   51.25]\n",
      "[ 0.98935825  0.84147098  0.99060736  0.6569866 ]\n",
      "True\n"
     ]
    }
   ],
   "source": [
    "time = linspace(20, 145, 5)\n",
    "data = sin(arange(20)).reshape(5,4)\n",
    "ind = data.argmax(axis=0)\n",
    "print ind\n",
    "time_max = time[ind]\n",
    "data_max = data[ind, xrange(data.shape[1])] # data[[ind[0],0],...] y軸を補っている\n",
    "print time_max\n",
    "print data_max\n",
    "print all(data_max == data.max(axis=0))"
   ]
  },
  {
   "cell_type": "code",
   "execution_count": 113,
   "metadata": {
    "collapsed": false
   },
   "outputs": [
    {
     "name": "stdout",
     "output_type": "stream",
     "text": [
      "[ 5  6  7  8  9 10 11]\n",
      "[[0 1 2 3]\n",
      " [4 0 0 0]\n",
      " [0 0 0 0]]\n"
     ]
    }
   ],
   "source": [
    "#indexing with boolean arrays\n",
    "a = arange(12).reshape(3,4)\n",
    "b = a > 4\n",
    "print a[b]\n",
    "a[b] = 0\n",
    "print a"
   ]
  },
  {
   "cell_type": "code",
   "execution_count": 116,
   "metadata": {
    "collapsed": false
   },
   "outputs": [
    {
     "name": "stdout",
     "output_type": "stream",
     "text": [
      "[[ 0  1  2  3]\n",
      " [ 8  9 10 11]]\n",
      "[[ 1  3]\n",
      " [ 5  7]\n",
      " [ 9 11]]\n",
      "[ 1 11]\n"
     ]
    }
   ],
   "source": [
    "# use slicing with boolean index\n",
    "a = arange(12).reshape(3,4)\n",
    "b1 = array([True, False, True])\n",
    "b2 = array([False, True, False, True])\n",
    "print a[b1,:]\n",
    "print a[:,b2]\n",
    "print a[b1, b2] # こういうことはしちゃいけないらしい"
   ]
  },
  {
   "cell_type": "code",
   "execution_count": 119,
   "metadata": {
    "collapsed": false
   },
   "outputs": [
    {
     "name": "stdout",
     "output_type": "stream",
     "text": [
      "(4, 1, 1) (1, 3, 1) (1, 1, 5)\n",
      "[[[42 34 50 66 26]\n",
      "  [27 22 32 42 17]\n",
      "  [22 18 26 34 14]]\n",
      "\n",
      " [[43 35 51 67 27]\n",
      "  [28 23 33 43 18]\n",
      "  [23 19 27 35 15]]\n",
      "\n",
      " [[44 36 52 68 28]\n",
      "  [29 24 34 44 19]\n",
      "  [24 20 28 36 16]]\n",
      "\n",
      " [[45 37 53 69 29]\n",
      "  [30 25 35 45 20]\n",
      "  [25 21 29 37 17]]]\n",
      "17\n",
      "17\n"
     ]
    }
   ],
   "source": [
    "# ix_() function\n",
    "a = array([2,3,4,5])\n",
    "b = array([8,5,4])\n",
    "c = array([5,4,6,8,3])\n",
    "ax, bx, cx = ix_(a,b,c)\n",
    "print ax.shape, bx.shape, cx.shape\n",
    "result = ax + bx * cx\n",
    "print result\n",
    "print result[3,2,4]\n",
    "print a[3]+b[2]*c[4]"
   ]
  },
  {
   "cell_type": "code",
   "execution_count": 120,
   "metadata": {
    "collapsed": false
   },
   "outputs": [
    {
     "name": "stdout",
     "output_type": "stream",
     "text": [
      "(1, 3, 5)\n",
      "[[[40 32 48 64 24]\n",
      "  [25 20 30 40 15]\n",
      "  [20 16 24 32 12]]]\n"
     ]
    }
   ],
   "source": [
    "# check of ix_\n",
    "print (bx * cx).shape\n",
    "print (bx * cx) # indexがずれているので、b * c^T になるっぽい"
   ]
  },
  {
   "cell_type": "code",
   "execution_count": 122,
   "metadata": {
    "collapsed": false
   },
   "outputs": [
    {
     "name": "stdout",
     "output_type": "stream",
     "text": [
      "[[1]\n",
      " [2]\n",
      " [3]]\n",
      "[[3 4 5]]\n",
      "[[4 5 6]\n",
      " [5 6 7]\n",
      " [6 7 8]]\n"
     ]
    }
   ],
   "source": [
    "# check of ix_ 2\n",
    "d = array([[1],[2],[3]])\n",
    "e = array([[3,4,5]])\n",
    "print d\n",
    "print e\n",
    "print d + e\n",
    "# 要素ごとの演算になるが、1+[3,4,5] で計算されるっぽい"
   ]
  },
  {
   "cell_type": "code",
   "execution_count": 131,
   "metadata": {
    "collapsed": false,
    "scrolled": false
   },
   "outputs": [
    {
     "name": "stdout",
     "output_type": "stream",
     "text": [
      "[[[15 14 16 18 13]\n",
      "  [12 11 13 15 10]\n",
      "  [11 10 12 14  9]]\n",
      "\n",
      " [[16 15 17 19 14]\n",
      "  [13 12 14 16 11]\n",
      "  [12 11 13 15 10]]\n",
      "\n",
      " [[17 16 18 20 15]\n",
      "  [14 13 15 17 12]\n",
      "  [13 12 14 16 11]]\n",
      "\n",
      " [[18 17 19 21 16]\n",
      "  [15 14 16 18 13]\n",
      "  [14 13 15 17 12]]]\n",
      "-----------------\n",
      "[[[15 14 16 18 13]\n",
      "  [12 11 13 15 10]\n",
      "  [11 10 12 14  9]]\n",
      "\n",
      " [[16 15 17 19 14]\n",
      "  [13 12 14 16 11]\n",
      "  [12 11 13 15 10]]\n",
      "\n",
      " [[17 16 18 20 15]\n",
      "  [14 13 15 17 12]\n",
      "  [13 12 14 16 11]]\n",
      "\n",
      " [[18 17 19 21 16]\n",
      "  [15 14 16 18 13]\n",
      "  [14 13 15 17 12]]]\n"
     ]
    }
   ],
   "source": [
    "def ufunc_reduce(ufct, *vectors):\n",
    "    vs = ix_(*vectors)\n",
    "    r = ufct.identity\n",
    "    for v in vs:\n",
    "        r = ufct(r,v)\n",
    "    return r\n",
    "print ufunc_reduce(add,a,b,c)\n",
    "print '-----------------'\n",
    "print ax + bx + cx"
   ]
  },
  {
   "cell_type": "code",
   "execution_count": 132,
   "metadata": {
    "collapsed": false
   },
   "outputs": [
    {
     "name": "stdout",
     "output_type": "stream",
     "text": [
      "[(0.0, 0.0, 0.0) (1.0, 0.0, 0.0) (0.0, 1.0, 0.0) (0.0, 0.0, 1.0)]\n",
      "[ 0.  1.  0.  0.]\n"
     ]
    }
   ],
   "source": [
    "# Record Arrays\n",
    "img = array([(0,0,0),(1,0,0),(0,1,0),(0,0,1)], [('r',float32),('g',float32),('b', float32)])\n",
    "print img\n",
    "print img['r']"
   ]
  },
  {
   "cell_type": "code",
   "execution_count": 134,
   "metadata": {
    "collapsed": false
   },
   "outputs": [
    {
     "name": "stdout",
     "output_type": "stream",
     "text": [
      "[[ 1.  3.]\n",
      " [ 2.  4.]]\n",
      "[[-2.   1. ]\n",
      " [ 1.5 -0.5]]\n",
      "[[ 1.  2.]\n",
      " [ 3.  4.]]\n",
      "2.0\n",
      "[[-3.]\n",
      " [ 4.]]\n",
      "[-0.37228132  5.37228132]\n",
      "[[-0.82456484 -0.41597356]\n",
      " [ 0.56576746 -0.90937671]]\n"
     ]
    }
   ],
   "source": [
    "# linear algebra\n",
    "from numpy.linalg import *\n",
    "a = array([[1.0,2.0],[3.0,4.0]])\n",
    "print a.transpose()\n",
    "print inv(a)\n",
    "u = eye(2)\n",
    "print dot(a,u)\n",
    "print trace(u)\n",
    "y = array([[5.],[7.]])\n",
    "print solve(a,y)\n",
    "lam, Lam = eig(a)\n",
    "print lam\n",
    "print Lam"
   ]
  },
  {
   "cell_type": "code",
   "execution_count": 136,
   "metadata": {
    "collapsed": false
   },
   "outputs": [
    {
     "name": "stdout",
     "output_type": "stream",
     "text": [
      "[[ 1.  2.]\n",
      " [ 3.  4.]]\n",
      "<class 'numpy.matrixlib.defmatrix.matrix'>\n",
      "[[ 1.  3.]\n",
      " [ 2.  4.]]\n",
      "[[ 19.]\n",
      " [ 43.]]\n",
      "[[-2.   1. ]\n",
      " [ 1.5 -0.5]]\n",
      "[[-3.]\n",
      " [ 4.]]\n"
     ]
    }
   ],
   "source": [
    "# matrix\n",
    "A = matrix('1.0 2.0; 3.0 4.0')\n",
    "print A\n",
    "print type(A)\n",
    "print A.T\n",
    "X = matrix('5.0 7.0')\n",
    "Y = X.T\n",
    "print A * Y\n",
    "print A.I # inverse\n",
    "print solve(A, Y)"
   ]
  },
  {
   "cell_type": "code",
   "execution_count": 137,
   "metadata": {
    "collapsed": false,
    "scrolled": true
   },
   "outputs": [
    {
     "name": "stdout",
     "output_type": "stream",
     "text": [
      "<type 'numpy.ndarray'>\n",
      "[[ 0  1  2  3]\n",
      " [ 4  5  6  7]\n",
      " [ 8  9 10 11]]\n",
      "[[ 0  1  2  3]\n",
      " [ 4  5  6  7]\n",
      " [ 8  9 10 11]]\n"
     ]
    }
   ],
   "source": [
    "# NumPyはN-dimensional array と universal function以外はそれを元にして作っているので、\n",
    "# matrixは2-dimensional arrayを継承しているらしい、\n",
    "# matrix の indexには 2-d array用のindexの他、matrixも使えるとのこと\n",
    "A = arange(12)\n",
    "A.shape = 3,4\n",
    "M = mat(A.copy())\n",
    "print type(A)\n",
    "print A\n",
    "print M"
   ]
  },
  {
   "cell_type": "code",
   "execution_count": 138,
   "metadata": {
    "collapsed": false
   },
   "outputs": [
    {
     "name": "stdout",
     "output_type": "stream",
     "text": [
      "[[ 0  1  2  3]\n",
      " [ 4  5  6  7]\n",
      " [ 8  9 10 11]]\n",
      "(3, 4)\n",
      "[[ 0  1  2  3]\n",
      " [ 4  5  6  7]\n",
      " [ 8  9 10 11]]\n",
      "(3, 4)\n"
     ]
    }
   ],
   "source": [
    "print A[:];\n",
    "print A[:].shape\n",
    "print M[:]\n",
    "print M[:].shape"
   ]
  },
  {
   "cell_type": "code",
   "execution_count": 139,
   "metadata": {
    "collapsed": false
   },
   "outputs": [
    {
     "name": "stdout",
     "output_type": "stream",
     "text": [
      "[1 5 9]\n",
      "(3,)\n",
      "[[1]\n",
      " [5]\n",
      " [9]]\n",
      "(3, 1)\n",
      "[[ 0  1  2  3]\n",
      " [ 4  5  6  7]\n",
      " [ 8  9 10 11]]\n"
     ]
    }
   ],
   "source": [
    "print A[:,1]\n",
    "print A[:,1].shape\n",
    "print M[:,1]\n",
    "print M[:,1].shape # columnの形を保ったままにできる\n",
    "print M"
   ]
  },
  {
   "cell_type": "code",
   "execution_count": 140,
   "metadata": {
    "collapsed": false
   },
   "outputs": [
    {
     "name": "stdout",
     "output_type": "stream",
     "text": [
      "[4 5 6 7]\n",
      "[[4 5 6 7]]\n"
     ]
    }
   ],
   "source": [
    "print A[1,:]\n",
    "print M[1,:]"
   ]
  },
  {
   "cell_type": "code",
   "execution_count": 144,
   "metadata": {
    "collapsed": false
   },
   "outputs": [
    {
     "name": "stdout",
     "output_type": "stream",
     "text": [
      "[[ 1  3]\n",
      " [ 5  7]\n",
      " [ 9 11]]\n",
      "[[ 1  3]\n",
      " [ 5  7]\n",
      " [ 9 11]]\n",
      "[[ 5  7]\n",
      " [ 9 11]]\n"
     ]
    }
   ],
   "source": [
    "# Aから1st and 3rd columnを切り出す方法\n",
    "print A[:,[1,3]]\n",
    "print A.take([1,3], axis=1)\n",
    "print A[1:,].take([1,3], axis=1) # 1st rowを飛ばす"
   ]
  },
  {
   "cell_type": "code",
   "execution_count": 146,
   "metadata": {
    "collapsed": false
   },
   "outputs": [
    {
     "name": "stdout",
     "output_type": "stream",
     "text": [
      "[[ 5  7]\n",
      " [ 9 11]]\n"
     ]
    }
   ],
   "source": [
    "# use ix_\n",
    "print A[ix_((1,2),(1,3))]"
   ]
  },
  {
   "cell_type": "code",
   "execution_count": 147,
   "metadata": {
    "collapsed": false
   },
   "outputs": [
    {
     "name": "stdout",
     "output_type": "stream",
     "text": [
      "[[ 2  3]\n",
      " [ 6  7]\n",
      " [10 11]]\n"
     ]
    }
   ],
   "source": [
    "# 始めのrowが1より大きいcolumnを取り出す\n",
    "print A[:,A[0,:]>1]"
   ]
  },
  {
   "cell_type": "code",
   "execution_count": 148,
   "metadata": {
    "collapsed": false
   },
   "outputs": [
    {
     "name": "stdout",
     "output_type": "stream",
     "text": [
      "[[2 3]]\n"
     ]
    }
   ],
   "source": [
    "# Matrixで同じようなことしようとすると、sliceが Matrixになってこける\n",
    "print M[:,M[0,:]>1]"
   ]
  },
  {
   "cell_type": "code",
   "execution_count": 149,
   "metadata": {
    "collapsed": false
   },
   "outputs": [
    {
     "name": "stdout",
     "output_type": "stream",
     "text": [
      "[[ 2  3]\n",
      " [ 6  7]\n",
      " [10 11]]\n"
     ]
    }
   ],
   "source": [
    "# ので、 .Aという属性を使って乗り切る\n",
    "print M[:,M.A[0,:]>1]"
   ]
  },
  {
   "cell_type": "code",
   "execution_count": 150,
   "metadata": {
    "collapsed": false
   },
   "outputs": [
    {
     "name": "stdout",
     "output_type": "stream",
     "text": [
      "[ 6 11]\n",
      "[[ 6  7]\n",
      " [10 11]]\n"
     ]
    }
   ],
   "source": [
    "#  row とcolumnの両方の条件で取り出したい時は\n",
    "print A[A[:,0]>2,A[0,:]>1] # やったらあかんやーつ\n",
    "print A[ix_(A[:,0]>2, A[0,:]>1)]"
   ]
  },
  {
   "cell_type": "code",
   "execution_count": 153,
   "metadata": {
    "collapsed": false
   },
   "outputs": [
    {
     "name": "stdout",
     "output_type": "stream",
     "text": [
      "(2, 5, 3)\n",
      "[[[ 0  1  2]\n",
      "  [ 3  4  5]\n",
      "  [ 6  7  8]\n",
      "  [ 9 10 11]\n",
      "  [12 13 14]]\n",
      "\n",
      " [[15 16 17]\n",
      "  [18 19 20]\n",
      "  [21 22 23]\n",
      "  [24 25 26]\n",
      "  [27 28 29]]]\n"
     ]
    }
   ],
   "source": [
    "# Tricks and Tips\n",
    "# auto reshape\n",
    "a = arange(30)\n",
    "a.shape = 2, -1, 3 # -1 means 必要な値を適当に入れて\n",
    "print a.shape\n",
    "print a"
   ]
  },
  {
   "cell_type": "code",
   "execution_count": 156,
   "metadata": {
    "collapsed": false
   },
   "outputs": [
    {
     "name": "stdout",
     "output_type": "stream",
     "text": [
      "[[0 2 4 6 8]\n",
      " [0 1 2 3 4]]\n",
      "[0 2 4 6 8 0 1 2 3 4]\n"
     ]
    }
   ],
   "source": [
    "# vector stacking\n",
    "# matlabだと[x;y] とか[x,y]とかで出来るように、stackで出来るの良いよね;-) ということらしい\n",
    "x = arange(0,10,2)\n",
    "y = arange(5)\n",
    "m = vstack([x,y])\n",
    "xy = hstack([x,y])\n",
    "print m\n",
    "print xy"
   ]
  },
  {
   "cell_type": "code",
   "execution_count": null,
   "metadata": {
    "collapsed": true
   },
   "outputs": [],
   "source": []
  }
 ],
 "metadata": {
  "kernelspec": {
   "display_name": "Python 2",
   "language": "python",
   "name": "python2"
  },
  "language_info": {
   "codemirror_mode": {
    "name": "ipython",
    "version": 2
   },
   "file_extension": ".py",
   "mimetype": "text/x-python",
   "name": "python",
   "nbconvert_exporter": "python",
   "pygments_lexer": "ipython2",
   "version": "2.7.1"
  }
 },
 "nbformat": 4,
 "nbformat_minor": 0
}
