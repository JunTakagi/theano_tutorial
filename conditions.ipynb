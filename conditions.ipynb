{
 "cells": [
  {
   "cell_type": "code",
   "execution_count": 4,
   "metadata": {
    "collapsed": false
   },
   "outputs": [
    {
     "name": "stdout",
     "output_type": "stream",
     "text": [
      "time spent evaluating both values 0.003638 sec\n",
      "time spent evaluating both values 0.005057 sec\n"
     ]
    }
   ],
   "source": [
    "from theano import tensor as T\n",
    "from theano.ifelse import ifelse\n",
    "import theano, time, numpy\n",
    "\n",
    "a,b = T.scalars('a', 'b')\n",
    "x,y = T.matrices('x', 'y')\n",
    "\n",
    "z_switch = T.switch(T.lt(a, b), T.mean(x), T.mean(y))\n",
    "z_lazy = ifelse(T.lt(a, b), T.mean(x), T.mean(y))\n",
    "\n",
    "f_switch = theano.function([a, b, x, y], z_switch,\n",
    "                    mode=theano.Mode(linker='vm'))\n",
    "f_lazyifelse = theano.function([a, b, x, y], z_lazy,\n",
    "                    mode=theano.Mode(linker='vm'))\n",
    "\n",
    "val1 = 0.\n",
    "val2 = 1.\n",
    "big_mat1 = numpy.ones((100, 1000))\n",
    "big_mat2 = numpy.ones((100, 1000))\n",
    "\n",
    "n_times = 10\n",
    "\n",
    "tic = time.clock()\n",
    "for i in xrange(n_times):\n",
    "    f_switch(val1, val2, big_mat1, big_mat2)\n",
    "print 'time spent evaluating both values %f sec' % (time.clock() - tic)\n",
    "\n",
    "tic = time.clock()\n",
    "for i in xrange(n_times):\n",
    "    f_lazyifelse(val1, val2, big_mat1, big_mat2)\n",
    "print 'time spent evaluating both values %f sec' % (time.clock() - tic)\n"
   ]
  },
  {
   "cell_type": "code",
   "execution_count": 5,
   "metadata": {
    "collapsed": false
   },
   "outputs": [
    {
     "name": "stdout",
     "output_type": "stream",
     "text": [
      "time spent evaluating both values 0.031200 sec\n",
      "time spent evaluating both values 0.025504 sec\n"
     ]
    }
   ],
   "source": [
    "big_mat1 = numpy.ones((1000, 1000))\n",
    "big_mat2 = numpy.ones((1000, 1000))\n",
    "tic = time.clock()\n",
    "for i in xrange(n_times):\n",
    "    f_switch(val1, val2, big_mat1, big_mat2)\n",
    "print 'time spent evaluating both values %f sec' % (time.clock() - tic)\n",
    "\n",
    "tic = time.clock()\n",
    "for i in xrange(n_times):\n",
    "    f_lazyifelse(val1, val2, big_mat1, big_mat2)\n",
    "print 'time spent evaluating both values %f sec' % (time.clock() - tic)"
   ]
  },
  {
   "cell_type": "code",
   "execution_count": 10,
   "metadata": {
    "collapsed": false
   },
   "outputs": [
    {
     "name": "stdout",
     "output_type": "stream",
     "text": [
      "time spent evaluating both values 0.242896 sec\n",
      "time spent evaluating both values 0.125390 sec\n"
     ]
    }
   ],
   "source": [
    "f_switch2 = theano.function([a, b, x, y], z_switch,\n",
    "                    mode=theano.Mode(linker='cvm'))\n",
    "f_lazyifelse2 = theano.function([a, b, x, y], z_lazy,\n",
    "                    mode=theano.Mode(linker='cvm'))\n",
    "\n",
    "val1 = 0.\n",
    "val2 = 1.\n",
    "big_mat1 = numpy.ones((10000, 1000))\n",
    "big_mat2 = numpy.ones((10000, 1000))\n",
    "\n",
    "tic = time.clock()\n",
    "for i in xrange(n_times):\n",
    "    f_switch2(val1, val2, big_mat1, big_mat2)\n",
    "print 'time spent evaluating both values %f sec' % (time.clock() - tic)\n",
    "\n",
    "tic = time.clock()\n",
    "for i in xrange(n_times):\n",
    "    f_lazyifelse2(val1, val2, big_mat1, big_mat2)\n",
    "print 'time spent evaluating both values %f sec' % (time.clock() - tic)\n"
   ]
  },
  {
   "cell_type": "code",
   "execution_count": null,
   "metadata": {
    "collapsed": true
   },
   "outputs": [],
   "source": []
  }
 ],
 "metadata": {
  "kernelspec": {
   "display_name": "Python 2",
   "language": "python",
   "name": "python2"
  },
  "language_info": {
   "codemirror_mode": {
    "name": "ipython",
    "version": 2
   },
   "file_extension": ".py",
   "mimetype": "text/x-python",
   "name": "python",
   "nbconvert_exporter": "python",
   "pygments_lexer": "ipython2",
   "version": "2.7.1"
  }
 },
 "nbformat": 4,
 "nbformat_minor": 0
}
